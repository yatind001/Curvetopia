{
 "cells": [
  {
   "cell_type": "code",
   "execution_count": 1,
   "id": "02c6c2cc",
   "metadata": {},
   "outputs": [],
   "source": [
    "import os\n",
    "import pandas as pd\n",
    "import numpy as np\n",
    "import matplotlib.pyplot as plt"
   ]
  },
  {
   "cell_type": "code",
   "execution_count": 2,
   "id": "fa1e7ae7",
   "metadata": {},
   "outputs": [],
   "source": [
    "%run ../Functions.ipynb"
   ]
  },
  {
   "cell_type": "code",
   "execution_count": 3,
   "id": "eda3396a",
   "metadata": {},
   "outputs": [],
   "source": [
    "# Directory structure\n",
    "base_dir = r\"D:\\Om Saran\\ML\\adobe\\dataset\\symmetry\\Horizontal\"\n",
    "categories = ['yes','no'] "
   ]
  },
  {
   "cell_type": "code",
   "execution_count": 4,
   "id": "07ba85c1",
   "metadata": {},
   "outputs": [],
   "source": [
    "# Data storage\n",
    "data = []\n",
    "labels = []\n",
    "\n",
    "# Load data\n",
    "for category in categories:\n",
    "    folder_path = os.path.join(base_dir, category)\n",
    "    for file_name in os.listdir(folder_path):\n",
    "        file_path = os.path.join(folder_path, file_name)\n",
    "        if file_path.endswith('.csv'):\n",
    "            # Read CSV file\n",
    "            points = pd.read_csv(file_path)\n",
    "            data.append(points.values)  # Store points as numpy array or DataFrame\n",
    "            labels.append(category)  # Store the label"
   ]
  },
  {
   "cell_type": "code",
   "execution_count": 5,
   "id": "e9b7cc9c",
   "metadata": {},
   "outputs": [
    {
     "data": {
      "text/plain": [
       "139"
      ]
     },
     "execution_count": 5,
     "metadata": {},
     "output_type": "execute_result"
    }
   ],
   "source": [
    "len(data)"
   ]
  },
  {
   "cell_type": "code",
   "execution_count": 6,
   "id": "a801f9dd",
   "metadata": {},
   "outputs": [
    {
     "name": "stdout",
     "output_type": "stream",
     "text": [
      "['no', 'yes']\n"
     ]
    }
   ],
   "source": [
    "unique_labels = list(set(labels))\n",
    "print(unique_labels)"
   ]
  },
  {
   "cell_type": "code",
   "execution_count": 7,
   "id": "65036e6c",
   "metadata": {},
   "outputs": [],
   "source": [
    "import numpy as np\n",
    "num_classes = 2\n",
    "\n",
    "def normalize_curve(points, img_size):\n",
    "    # Extract x and y coordinates\n",
    "    x = points[:, 0]\n",
    "    y = points[:, 1]\n",
    "    # Normalize coordinates to fit within [0, 1]\n",
    "    x_min, x_max = x.min(), x.max()\n",
    "    y_min, y_max = y.min(), y.max()\n",
    "    \n",
    "    x_normalized = (x - x_min) / (x_max - x_min)\n",
    "    y_normalized = (y - y_min) / (y_max - y_min)\n",
    "\n",
    "    # Scale coordinates to fit within the image size\n",
    "    x_scaled = (x_normalized * (img_size - 1)).astype(int)\n",
    "    y_scaled = (y_normalized * (img_size - 1)).astype(int)\n",
    "    \n",
    "    return np.vstack((x_scaled, y_scaled)).T\n"
   ]
  },
  {
   "cell_type": "code",
   "execution_count": 8,
   "id": "334ed64b",
   "metadata": {},
   "outputs": [
    {
     "name": "stdout",
     "output_type": "stream",
     "text": [
      "Label Mapping: {'no': 0, 'yes': 1}\n"
     ]
    }
   ],
   "source": [
    "from tensorflow.keras.utils import to_categorical\n",
    "\n",
    "# Create a mapping from label names to integers\n",
    "label_mapping = {label: idx for idx, label in enumerate(sorted(set(labels)))}\n",
    "print(\"Label Mapping:\", label_mapping)\n",
    "\n",
    "# Convert string labels to integers\n",
    "labels = np.array([label_mapping[label] for label in labels])\n",
    "\n",
    "labels = to_categorical(labels, num_classes)  # Convert labels to one-hot encoding"
   ]
  },
  {
   "cell_type": "code",
   "execution_count": 9,
   "id": "faa06911",
   "metadata": {},
   "outputs": [
    {
     "data": {
      "text/plain": [
       "array([0., 1.], dtype=float32)"
      ]
     },
     "execution_count": 9,
     "metadata": {},
     "output_type": "execute_result"
    }
   ],
   "source": [
    "labels[0]"
   ]
  },
  {
   "cell_type": "code",
   "execution_count": 10,
   "id": "1203743e",
   "metadata": {},
   "outputs": [],
   "source": [
    "data = np.array([convert_points_to_image(p, 224) for p in data])"
   ]
  },
  {
   "cell_type": "code",
   "execution_count": 11,
   "id": "d0f47789",
   "metadata": {},
   "outputs": [
    {
     "data": {
      "image/png": "[encoded data removed]",
      "text/plain": [
       "<Figure size 432x288 with 1 Axes>"
      ]
     },
     "metadata": {
      "needs_background": "light"
     },
     "output_type": "display_data"
    }
   ],
   "source": [
    "fig, ax = plt.subplots()\n",
    "\n",
    "# Display the image\n",
    "ax.imshow(data[76])\n",
    "# Adjust layout to add margins\n",
    "fig.tight_layout(pad=0.0)  # Increase padding as needed\n",
    "\n",
    "# Show the plot\n",
    "plt.show()"
   ]
  },
  {
   "cell_type": "code",
   "execution_count": 12,
   "id": "fdeafa5f",
   "metadata": {},
   "outputs": [
    {
     "data": {
      "text/plain": [
       "(139, 224, 224, 3)"
      ]
     },
     "execution_count": 12,
     "metadata": {},
     "output_type": "execute_result"
    }
   ],
   "source": [
    "data = np.stack([data] * 3, axis=-1)\n",
    "data.shape"
   ]
  },
  {
   "cell_type": "code",
   "execution_count": 13,
   "id": "a5db90d9",
   "metadata": {},
   "outputs": [],
   "source": [
    "from sklearn.model_selection import train_test_split\n",
    "\n",
    "X_train, X_test, Y_train, Y_test = train_test_split(data, labels, test_size = 0.1,random_state=42)"
   ]
  },
  {
   "cell_type": "code",
   "execution_count": 14,
   "id": "eee49998",
   "metadata": {},
   "outputs": [],
   "source": [
    "from tensorflow.keras.applications import VGG16\n",
    "from tensorflow.keras.models import Model\n",
    "from tensorflow.keras.layers import Dense, Flatten\n",
    "\n",
    "def build_vgg16_model(num_classes):\n",
    "    base_model = VGG16(weights='imagenet', include_top=False, input_shape=(224, 224, 3))\n",
    "    x = base_model.output\n",
    "    x = Flatten()(x)\n",
    "    x = Dense(32, activation='relu')(x)\n",
    "    x = Dense(32, activation='sigmoid')(x)\n",
    "    predictions = Dense(num_classes, activation='softmax')(x)\n",
    "    \n",
    "    model = Model(inputs=base_model.input, outputs=predictions)\n",
    "    \n",
    "    # Freeze base model layers\n",
    "    for layer in base_model.layers:\n",
    "        layer.trainable = False\n",
    "    \n",
    "    model.compile(optimizer='adam', loss='binary_crossentropy', metrics=['accuracy'])\n",
    "    return model\n",
    "\n",
    "model = build_vgg16_model(num_classes)\n"
   ]
  },
  {
   "cell_type": "code",
   "execution_count": 15,
   "id": "dc5f43d4",
   "metadata": {},
   "outputs": [
    {
     "name": "stdout",
     "output_type": "stream",
     "text": [
      "Epoch 1/10\n",
      "6/6 [==============================] - 88s 14s/step - loss: 0.7217 - accuracy: 0.5517 - val_loss: 0.6666 - val_accuracy: 0.6579\n",
      "Epoch 2/10\n",
      "6/6 [==============================] - 83s 14s/step - loss: 0.6277 - accuracy: 0.8161 - val_loss: 0.6346 - val_accuracy: 0.7632\n",
      "Epoch 3/10\n",
      "6/6 [==============================] - 84s 15s/step - loss: 0.5622 - accuracy: 0.8506 - val_loss: 0.5811 - val_accuracy: 0.7368\n",
      "Epoch 4/10\n",
      "6/6 [==============================] - 78s 14s/step - loss: 0.4965 - accuracy: 0.8851 - val_loss: 0.5760 - val_accuracy: 0.7632\n",
      "Epoch 5/10\n",
      "6/6 [==============================] - 85s 15s/step - loss: 0.4473 - accuracy: 0.8851 - val_loss: 0.5362 - val_accuracy: 0.7632\n",
      "Epoch 6/10\n",
      "6/6 [==============================] - 80s 14s/step - loss: 0.4146 - accuracy: 0.9195 - val_loss: 0.5418 - val_accuracy: 0.7632\n",
      "Epoch 7/10\n",
      "6/6 [==============================] - 82s 14s/step - loss: 0.3951 - accuracy: 0.9080 - val_loss: 0.4922 - val_accuracy: 0.7895\n",
      "Epoch 8/10\n",
      "6/6 [==============================] - 85s 15s/step - loss: 0.3486 - accuracy: 0.9310 - val_loss: 0.5245 - val_accuracy: 0.7105\n",
      "Epoch 9/10\n",
      "6/6 [==============================] - 83s 14s/step - loss: 0.3211 - accuracy: 0.9540 - val_loss: 0.4499 - val_accuracy: 0.7895\n",
      "Epoch 10/10\n",
      "6/6 [==============================] - 55s 9s/step - loss: 0.2932 - accuracy: 0.9770 - val_loss: 0.4934 - val_accuracy: 0.7895\n"
     ]
    },
    {
     "data": {
      "text/plain": [
       "<keras.callbacks.History at 0x2660d85d828>"
      ]
     },
     "execution_count": 15,
     "metadata": {},
     "output_type": "execute_result"
    }
   ],
   "source": [
    "model.fit(X_train, Y_train, epochs=10, batch_size=16, validation_split=0.3)"
   ]
  },
  {
   "cell_type": "code",
   "execution_count": 16,
   "id": "102a2858",
   "metadata": {},
   "outputs": [
    {
     "name": "stdout",
     "output_type": "stream",
     "text": [
      "1/1 [==============================] - 3s 3s/step - loss: 0.6090 - accuracy: 0.7857\n",
      "Accuracy: 0.79\n"
     ]
    }
   ],
   "source": [
    "# Evaluate the model\n",
    "loss, accuracy = model.evaluate(X_test, Y_test)\n",
    "print(f\"Accuracy: {accuracy:.2f}\")"
   ]
  },
  {
   "cell_type": "code",
   "execution_count": 17,
   "id": "8c008e04",
   "metadata": {},
   "outputs": [],
   "source": [
    "model.save('../Models/model_sym_hor.h5')"
   ]
  }
 ],
 "metadata": {
  "kernelspec": {
   "display_name": "Python 3",
   "language": "python",
   "name": "python3"
  },
  "language_info": {
   "codemirror_mode": {
    "name": "ipython",
    "version": 3
   },
   "file_extension": ".py",
   "mimetype": "text/x-python",
   "name": "python",
   "nbconvert_exporter": "python",
   "pygments_lexer": "ipython3",
   "version": "3.6.13"
  }
 },
 "nbformat": 4,
 "nbformat_minor": 5
}
