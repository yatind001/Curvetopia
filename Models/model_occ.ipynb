{
 "cells": [
  {
   "cell_type": "code",
   "execution_count": 1,
   "id": "12d1201c",
   "metadata": {},
   "outputs": [],
   "source": [
    "import os\n",
    "import pandas as pd\n",
    "import numpy as np\n",
    "import matplotlib.pyplot as plt"
   ]
  },
  {
   "cell_type": "code",
   "execution_count": 2,
   "id": "c36e6abc",
   "metadata": {},
   "outputs": [],
   "source": [
    "%run ../Functions.ipynb"
   ]
  },
  {
   "cell_type": "code",
   "execution_count": 3,
   "id": "ed1bd046",
   "metadata": {},
   "outputs": [],
   "source": [
    "# Directory structure\n",
    "base_dir = r\"D:\\Om Saran\\ML\\adobe\\dataset\\occlusion\"\n",
    "categories = ['occ_circle','occ_ellipse','none'] "
   ]
  },
  {
   "cell_type": "code",
   "execution_count": 4,
   "id": "86eb091f",
   "metadata": {},
   "outputs": [],
   "source": [
    "# Data storage\n",
    "data = []\n",
    "labels = []\n",
    "\n",
    "# Load data\n",
    "for category in categories:\n",
    "    folder_path = os.path.join(base_dir, category)\n",
    "    for file_name in os.listdir(folder_path):\n",
    "        file_path = os.path.join(folder_path, file_name)\n",
    "        if file_path.endswith('.csv'):\n",
    "            # Read CSV file\n",
    "            points = pd.read_csv(file_path)\n",
    "            data.append(points.values)  # Store points as numpy array or DataFrame\n",
    "            labels.append(category)  # Store the label"
   ]
  },
  {
   "cell_type": "code",
   "execution_count": 5,
   "id": "0a1a2379",
   "metadata": {},
   "outputs": [
    {
     "name": "stdout",
     "output_type": "stream",
     "text": [
      "['none', 'occ_circle', 'occ_ellipse']\n"
     ]
    }
   ],
   "source": [
    "unique_labels = list(set(labels))\n",
    "\n",
    "print(unique_labels)"
   ]
  },
  {
   "cell_type": "code",
   "execution_count": 6,
   "id": "8a685bd1",
   "metadata": {},
   "outputs": [],
   "source": [
    "X = []\n",
    "Y = []\n",
    "\n",
    "for curve, label in zip(data, labels):\n",
    "    features = extract_features(curve)\n",
    "    if features.size > 0:  # Ensure that features are not empty\n",
    "        X.append(features)\n",
    "        Y.append(label)\n",
    "# Convert lists to numpy arrays\n",
    "X = np.array(X)\n",
    "Y = np.array(Y)"
   ]
  },
  {
   "cell_type": "code",
   "execution_count": 7,
   "id": "09698a1e",
   "metadata": {},
   "outputs": [],
   "source": [
    "X = X.reshape(X.shape[0], -1)"
   ]
  },
  {
   "cell_type": "code",
   "execution_count": 8,
   "id": "d9308f0b",
   "metadata": {},
   "outputs": [
    {
     "data": {
      "text/plain": [
       "102"
      ]
     },
     "execution_count": 8,
     "metadata": {},
     "output_type": "execute_result"
    }
   ],
   "source": [
    "len(data)"
   ]
  },
  {
   "cell_type": "code",
   "execution_count": 9,
   "id": "73725c26",
   "metadata": {},
   "outputs": [
    {
     "data": {
      "text/plain": [
       "102"
      ]
     },
     "execution_count": 9,
     "metadata": {},
     "output_type": "execute_result"
    }
   ],
   "source": [
    "len(labels)"
   ]
  },
  {
   "cell_type": "code",
   "execution_count": 10,
   "id": "53f54cf2",
   "metadata": {},
   "outputs": [],
   "source": [
    "import numpy as np\n",
    "num_classes = 3\n",
    "\n",
    "def normalize_curve(points, img_size):\n",
    "    # Extract x and y coordinates\n",
    "    x = points[:, 0]\n",
    "    y = points[:, 1]\n",
    "\n",
    "    # Normalize coordinates to fit within [0, 1]\n",
    "    x_min, x_max = x.min(), x.max()\n",
    "    y_min, y_max = y.min(), y.max()\n",
    "    \n",
    "    x_normalized = (x - x_min) / (x_max - x_min)\n",
    "    y_normalized = (y - y_min) / (y_max - y_min)\n",
    "\n",
    "    # Scale coordinates to fit within the image size\n",
    "    x_scaled = (x_normalized * (img_size - 1)).astype(int)\n",
    "    y_scaled = (y_normalized * (img_size - 1)).astype(int)\n",
    "    \n",
    "    return np.vstack((x_scaled, y_scaled)).T\n",
    "\n"
   ]
  },
  {
   "cell_type": "code",
   "execution_count": 11,
   "id": "ee51f8ab",
   "metadata": {},
   "outputs": [
    {
     "name": "stdout",
     "output_type": "stream",
     "text": [
      "Label Mapping: {'none': 0, 'occ_circle': 1, 'occ_ellipse': 2}\n"
     ]
    }
   ],
   "source": [
    "from tensorflow.keras.utils import to_categorical\n",
    "\n",
    "# Create a mapping from label names to integers\n",
    "label_mapping = {label: idx for idx, label in enumerate(sorted(set(labels)))}\n",
    "print(\"Label Mapping:\", label_mapping)\n",
    "\n",
    "# Convert string labels to integers\n",
    "labels = np.array([label_mapping[label] for label in labels])\n",
    "\n",
    "labels = to_categorical(labels, num_classes)  # Convert labels to one-hot encoding"
   ]
  },
  {
   "cell_type": "code",
   "execution_count": 12,
   "id": "31cc9cfc",
   "metadata": {},
   "outputs": [],
   "source": [
    "data = np.array([convert_points_to_image(p, 224) for p in data])"
   ]
  },
  {
   "cell_type": "code",
   "execution_count": 13,
   "id": "4148dc3e",
   "metadata": {},
   "outputs": [
    {
     "data": {
      "image/png": "[encoded data removed]",
      "text/plain": [
       "<Figure size 432x288 with 1 Axes>"
      ]
     },
     "metadata": {
      "needs_background": "light"
     },
     "output_type": "display_data"
    }
   ],
   "source": [
    "fig, ax = plt.subplots()\n",
    "\n",
    "# Display the image\n",
    "ax.imshow(data[43])\n",
    "# Adjust layout to add margins\n",
    "fig.tight_layout(pad=0.0)  # Increase padding as needed\n",
    "\n",
    "# Show the plot\n",
    "plt.show()"
   ]
  },
  {
   "cell_type": "code",
   "execution_count": 14,
   "id": "8a6f05f3",
   "metadata": {},
   "outputs": [
    {
     "data": {
      "text/plain": [
       "(102, 224, 224, 3)"
      ]
     },
     "execution_count": 14,
     "metadata": {},
     "output_type": "execute_result"
    }
   ],
   "source": [
    "data = np.stack([data] * 3, axis=-1)\n",
    "data.shape"
   ]
  },
  {
   "cell_type": "code",
   "execution_count": 15,
   "id": "2b21d1e7",
   "metadata": {},
   "outputs": [],
   "source": [
    "\n",
    "from sklearn.model_selection import train_test_split\n",
    "# Split the data into training and testing sets\n",
    "X_train, X_test, Y_train, Y_test = train_test_split(data, labels, test_size = 0.1,random_state=42)"
   ]
  },
  {
   "cell_type": "code",
   "execution_count": 16,
   "id": "c3638a3f",
   "metadata": {},
   "outputs": [],
   "source": [
    "from tensorflow.keras.applications import VGG16\n",
    "from tensorflow.keras.models import Model\n",
    "from tensorflow.keras.layers import Dense, Flatten\n",
    "\n",
    "def build_vgg16_model(num_classes):\n",
    "    base_model = VGG16(weights='imagenet', include_top=False, input_shape=(224, 224, 3))\n",
    "    x = base_model.output\n",
    "    x = Flatten()(x)\n",
    "    x = Dense(32, activation='relu')(x)\n",
    "    x = Dense(32, activation='sigmoid')(x)\n",
    "    predictions = Dense(num_classes, activation='softmax')(x)\n",
    "    \n",
    "    model = Model(inputs=base_model.input, outputs=predictions)\n",
    "    \n",
    "    # Freeze base model layers\n",
    "    for layer in base_model.layers:\n",
    "        layer.trainable = False\n",
    "    \n",
    "    model.compile(optimizer='adam', loss='categorical_crossentropy', metrics=['accuracy'])\n",
    "    return model\n",
    "\n",
    "model = build_vgg16_model(num_classes)\n"
   ]
  },
  {
   "cell_type": "code",
   "execution_count": 17,
   "id": "52f39619",
   "metadata": {},
   "outputs": [
    {
     "name": "stdout",
     "output_type": "stream",
     "text": [
      "Epoch 1/10\n",
      "8/8 [==============================] - 20s 3s/step - loss: 1.1330 - accuracy: 0.4444 - val_loss: 0.9197 - val_accuracy: 0.6786\n",
      "Epoch 2/10\n",
      "8/8 [==============================] - 23s 3s/step - loss: 0.9497 - accuracy: 0.5079 - val_loss: 0.8759 - val_accuracy: 0.6429\n",
      "Epoch 3/10\n",
      "8/8 [==============================] - 22s 3s/step - loss: 0.8747 - accuracy: 0.7143 - val_loss: 0.8870 - val_accuracy: 0.6429\n",
      "Epoch 4/10\n",
      "8/8 [==============================] - 22s 3s/step - loss: 0.7690 - accuracy: 0.7460 - val_loss: 0.7842 - val_accuracy: 0.7500\n",
      "Epoch 5/10\n",
      "8/8 [==============================] - 28s 4s/step - loss: 0.6577 - accuracy: 0.8889 - val_loss: 0.7800 - val_accuracy: 0.7500\n",
      "Epoch 6/10\n",
      "8/8 [==============================] - 25s 3s/step - loss: 0.5418 - accuracy: 0.9206 - val_loss: 0.7043 - val_accuracy: 0.7500\n",
      "Epoch 7/10\n",
      "8/8 [==============================] - 22s 3s/step - loss: 0.5258 - accuracy: 0.9365 - val_loss: 0.6349 - val_accuracy: 0.7857\n",
      "Epoch 8/10\n",
      "8/8 [==============================] - 21s 3s/step - loss: 0.4655 - accuracy: 0.9206 - val_loss: 0.6296 - val_accuracy: 0.7857\n",
      "Epoch 9/10\n",
      "8/8 [==============================] - 22s 3s/step - loss: 0.4155 - accuracy: 0.9524 - val_loss: 0.6181 - val_accuracy: 0.7857\n",
      "Epoch 10/10\n",
      "8/8 [==============================] - 21s 3s/step - loss: 0.3649 - accuracy: 0.9841 - val_loss: 0.6239 - val_accuracy: 0.7857\n"
     ]
    },
    {
     "data": {
      "text/plain": [
       "<keras.callbacks.History at 0x1ed41d1fcf8>"
      ]
     },
     "execution_count": 17,
     "metadata": {},
     "output_type": "execute_result"
    }
   ],
   "source": [
    "model.fit(X_train, Y_train, epochs=10, batch_size=8, validation_split=0.3)"
   ]
  },
  {
   "cell_type": "code",
   "execution_count": 18,
   "id": "96a5b576",
   "metadata": {},
   "outputs": [
    {
     "name": "stdout",
     "output_type": "stream",
     "text": [
      "1/1 [==============================] - 2s 2s/step - loss: 0.7897 - accuracy: 0.6364\n",
      "Accuracy: 0.64\n"
     ]
    }
   ],
   "source": [
    "# Evaluate the model\n",
    "loss, accuracy = model.evaluate(X_test, Y_test)\n",
    "print(f\"Accuracy: {accuracy:.2f}\")"
   ]
  },
  {
   "cell_type": "code",
   "execution_count": 20,
   "id": "26a59633",
   "metadata": {},
   "outputs": [],
   "source": [
    "model.save('../Models/model_occ.h5')"
   ]
  }
 ],
 "metadata": {
  "kernelspec": {
   "display_name": "Python 3",
   "language": "python",
   "name": "python3"
  },
  "language_info": {
   "codemirror_mode": {
    "name": "ipython",
    "version": 3
   },
   "file_extension": ".py",
   "mimetype": "text/x-python",
   "name": "python",
   "nbconvert_exporter": "python",
   "pygments_lexer": "ipython3",
   "version": "3.6.13"
  }
 },
 "nbformat": 4,
 "nbformat_minor": 5
}
