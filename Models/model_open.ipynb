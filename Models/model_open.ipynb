{
 "cells": [
  {
   "cell_type": "code",
   "execution_count": 2,
   "id": "765f20f0",
   "metadata": {},
   "outputs": [],
   "source": [
    "import os\n",
    "import pandas as pd\n",
    "import numpy as np\n",
    "import matplotlib.pyplot as plt"
   ]
  },
  {
   "cell_type": "code",
   "execution_count": 3,
   "id": "7beafdf9",
   "metadata": {},
   "outputs": [],
   "source": [
    "%run ../Functions.ipynb"
   ]
  },
  {
   "cell_type": "code",
   "execution_count": 4,
   "id": "0de25af3",
   "metadata": {},
   "outputs": [],
   "source": [
    "# Directory structure\n",
    "base_dir = r\"D:\\Om Saran\\ML\\adobe\\dataset\\open\"\n",
    "categories = ['straight', 'not_straight'] "
   ]
  },
  {
   "cell_type": "code",
   "execution_count": 5,
   "id": "769d60dd",
   "metadata": {},
   "outputs": [],
   "source": [
    "# Data storage\n",
    "data = []\n",
    "labels = []\n",
    "\n",
    "# Load data\n",
    "for category in categories:\n",
    "    folder_path = os.path.join(base_dir, category)\n",
    "    for file_name in os.listdir(folder_path):\n",
    "        file_path = os.path.join(folder_path, file_name)\n",
    "        if file_path.endswith('.csv'):\n",
    "            # Read CSV file\n",
    "            points = pd.read_csv(file_path)\n",
    "            data.append(points.values)  # Store points as numpy array or DataFrame\n",
    "            labels.append(category)  # Store the label"
   ]
  },
  {
   "cell_type": "code",
   "execution_count": 6,
   "id": "df2c85c0",
   "metadata": {},
   "outputs": [
    {
     "name": "stdout",
     "output_type": "stream",
     "text": [
      "['not_straight', 'straight']\n"
     ]
    }
   ],
   "source": [
    "unique_labels = list(set(labels))\n",
    "\n",
    "print(unique_labels)"
   ]
  },
  {
   "cell_type": "code",
   "execution_count": 7,
   "id": "a9c6a7e5",
   "metadata": {},
   "outputs": [],
   "source": [
    "X = []\n",
    "Y = []\n",
    "\n",
    "for curve, label in zip(data, labels):\n",
    "    features = extract_features(curve)\n",
    "    if features.size > 0:  # Ensure that features are not empty\n",
    "        X.append(features)\n",
    "        Y.append(label)\n",
    "# Convert lists to numpy arrays\n",
    "X = np.array(X)\n",
    "Y = np.array(Y)"
   ]
  },
  {
   "cell_type": "code",
   "execution_count": 8,
   "id": "81b99563",
   "metadata": {},
   "outputs": [],
   "source": [
    "X = X.reshape(X.shape[0], -1)"
   ]
  },
  {
   "cell_type": "code",
   "execution_count": 9,
   "id": "8b5ae330",
   "metadata": {},
   "outputs": [],
   "source": [
    "from sklearn.model_selection import train_test_split\n",
    "# Split the data into training and testing sets\n",
    "X_train, X_test, Y_train, Y_test = train_test_split(X, Y, test_size = 0.3,random_state=42)\n",
    "\n",
    "# test_size: proportion of the dataset to include in the test split (20% here)\n",
    "# random_state: seed used by the random number generator for reproducibility"
   ]
  },
  {
   "cell_type": "code",
   "execution_count": 10,
   "id": "a4c2edfb",
   "metadata": {},
   "outputs": [
    {
     "data": {
      "text/plain": [
       "RandomForestClassifier(random_state=42)"
      ]
     },
     "execution_count": 10,
     "metadata": {},
     "output_type": "execute_result"
    }
   ],
   "source": [
    "from sklearn.ensemble import RandomForestClassifier\n",
    "\n",
    "# Create and train the Random Forest model\n",
    "model = RandomForestClassifier(n_estimators=100, random_state=42)\n",
    "model.fit(X_train, Y_train)"
   ]
  },
  {
   "cell_type": "code",
   "execution_count": 11,
   "id": "2774c438",
   "metadata": {},
   "outputs": [
    {
     "name": "stdout",
     "output_type": "stream",
     "text": [
      "Accuracy: 1.00\n",
      "Classification Report:\n",
      "              precision    recall  f1-score   support\n",
      "\n",
      "not_straight       1.00      1.00      1.00        10\n",
      "    straight       1.00      1.00      1.00         9\n",
      "\n",
      "    accuracy                           1.00        19\n",
      "   macro avg       1.00      1.00      1.00        19\n",
      "weighted avg       1.00      1.00      1.00        19\n",
      "\n",
      "Confusion Matrix:\n",
      "[[10  0]\n",
      " [ 0  9]]\n"
     ]
    }
   ],
   "source": [
    "from sklearn.metrics import accuracy_score, classification_report, confusion_matrix\n",
    "\n",
    "# Make predictions\n",
    "Y_pred = model.predict(X_test)\n",
    "\n",
    "# Calculate accuracy\n",
    "accuracy = accuracy_score(Y_test, Y_pred)\n",
    "print(f'Accuracy: {accuracy:.2f}')\n",
    "\n",
    "# Print classification report\n",
    "print('Classification Report:')\n",
    "print(classification_report(Y_test, Y_pred))\n",
    "\n",
    "# Print confusion matrix\n",
    "print('Confusion Matrix:')\n",
    "print(confusion_matrix(Y_test, Y_pred))"
   ]
  },
  {
   "cell_type": "code",
   "execution_count": 12,
   "id": "5b5d129a",
   "metadata": {},
   "outputs": [
    {
     "data": {
      "text/plain": [
       "['model_open.joblib']"
      ]
     },
     "execution_count": 12,
     "metadata": {},
     "output_type": "execute_result"
    }
   ],
   "source": [
    "from joblib import dump, load\n",
    "dump(model, '../Models/model_open.joblib')"
   ]
  },
  {
   "cell_type": "code",
   "execution_count": null,
   "id": "76f15af2",
   "metadata": {},
   "outputs": [],
   "source": [
    " "
   ]
  },
  {
   "cell_type": "code",
   "execution_count": null,
   "id": "c74c30a0",
   "metadata": {},
   "outputs": [],
   "source": []
  }
 ],
 "metadata": {
  "kernelspec": {
   "display_name": "Python 3",
   "language": "python",
   "name": "python3"
  },
  "language_info": {
   "codemirror_mode": {
    "name": "ipython",
    "version": 3
   },
   "file_extension": ".py",
   "mimetype": "text/x-python",
   "name": "python",
   "nbconvert_exporter": "python",
   "pygments_lexer": "ipython3",
   "version": "3.6.13"
  }
 },
 "nbformat": 4,
 "nbformat_minor": 5
}
