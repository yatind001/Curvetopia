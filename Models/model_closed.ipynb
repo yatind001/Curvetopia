{
 "cells": [
  {
   "cell_type": "code",
   "execution_count": 1,
   "id": "1bab33ea",
   "metadata": {},
   "outputs": [],
   "source": [
    "import os\n",
    "import pandas as pd\n",
    "import numpy as np\n",
    "import matplotlib.pyplot as plt"
   ]
  },
  {
   "cell_type": "code",
   "execution_count": 3,
   "id": "1e0d1cce",
   "metadata": {},
   "outputs": [],
   "source": [
    "%run ../Functions.ipynb"
   ]
  },
  {
   "cell_type": "code",
   "execution_count": null,
   "id": "0a76d88f",
   "metadata": {},
   "outputs": [],
   "source": [
    "# Directory structure\n",
    "base_dir = r\"D:\\Om Saran\\ML\\adobe\\dataset\\closed\"\n",
    "categories = ['circle', 'rectangle', 'irregular', 'star','regular', 'ellipse'] "
   ]
  },
  {
   "cell_type": "code",
   "execution_count": null,
   "id": "1e9791d4",
   "metadata": {},
   "outputs": [],
   "source": [
    "# Data storage\n",
    "data = []\n",
    "labels = []\n",
    "\n",
    "# Load data\n",
    "for category in categories:\n",
    "    folder_path = os.path.join(base_dir, category)\n",
    "    for file_name in os.listdir(folder_path):\n",
    "        file_path = os.path.join(folder_path, file_name)\n",
    "        if file_path.endswith('.csv'):\n",
    "            # Read CSV file\n",
    "            points = pd.read_csv(file_path)\n",
    "            data.append(points.values)  # Store points as numpy array or DataFrame\n",
    "            labels.append(category)  # Store the label"
   ]
  },
  {
   "cell_type": "code",
   "execution_count": null,
   "id": "776a7b3d",
   "metadata": {},
   "outputs": [],
   "source": [
    "unique_labels = list(set(labels))\n",
    "\n",
    "print(unique_labels)"
   ]
  },
  {
   "cell_type": "code",
   "execution_count": null,
   "id": "05a64fdf",
   "metadata": {},
   "outputs": [],
   "source": [
    "X = []\n",
    "Y = []\n",
    "\n",
    "for curve, label in zip(data, labels):\n",
    "    features = extract_features(curve)\n",
    "    if features.size > 0:  # Ensure that features are not empty\n",
    "        X.append(features)\n",
    "        Y.append(label)\n",
    "# Convert lists to numpy arrays\n",
    "X = np.array(X)\n",
    "Y = np.array(Y)"
   ]
  },
  {
   "cell_type": "code",
   "execution_count": null,
   "id": "6380b8e1",
   "metadata": {},
   "outputs": [],
   "source": [
    "X = X.reshape(X.shape[0], -1)"
   ]
  },
  {
   "cell_type": "code",
   "execution_count": null,
   "id": "d71cb5d7",
   "metadata": {},
   "outputs": [],
   "source": [
    "from sklearn.model_selection import train_test_split\n",
    "# Split the data into training and testing sets\n",
    "X_train, X_test, Y_train, Y_test = train_test_split(X, Y, test_size = 0.3,random_state=42)\n"
   ]
  },
  {
   "cell_type": "code",
   "execution_count": null,
   "id": "f377b6b6",
   "metadata": {},
   "outputs": [],
   "source": [
    "from sklearn.ensemble import RandomForestClassifier\n",
    "\n",
    "# Create and train the Random Forest model\n",
    "model = RandomForestClassifier(n_estimators=100, random_state=42)\n",
    "model.fit(X_train, Y_train)"
   ]
  },
  {
   "cell_type": "code",
   "execution_count": null,
   "id": "e7c3c5f3",
   "metadata": {},
   "outputs": [],
   "source": [
    "from sklearn.svm import SVC\n",
    "\n",
    "model = SVC(kernel='rbf', C=1.0, gamma='scale')  \n",
    "# RBF kernel is commonly used\n",
    "\n",
    "# Train the model\n",
    "model.fit(X_train, Y_train)"
   ]
  },
  {
   "cell_type": "code",
   "execution_count": null,
   "id": "a504e342",
   "metadata": {},
   "outputs": [],
   "source": [
    "from sklearn.metrics import accuracy_score, classification_report, confusion_matrix\n",
    "\n",
    "# Make predictions\n",
    "Y_pred = model.predict(X_test)\n",
    "\n",
    "# Calculate accuracy\n",
    "accuracy = accuracy_score(Y_test, Y_pred)\n",
    "print(f'Accuracy: {accuracy:.2f}')\n",
    "\n",
    "# Print classification report\n",
    "print('Classification Report:')\n",
    "print(classification_report(Y_test, Y_pred))\n",
    "\n",
    "# Print confusion matrix\n",
    "print('Confusion Matrix:')\n",
    "print(confusion_matrix(Y_test, Y_pred))"
   ]
  },
  {
   "cell_type": "code",
   "execution_count": null,
   "id": "43977917",
   "metadata": {},
   "outputs": [],
   "source": [
    "len(data)"
   ]
  },
  {
   "cell_type": "code",
   "execution_count": null,
   "id": "4be2d84b",
   "metadata": {},
   "outputs": [],
   "source": [
    "len(labels)"
   ]
  },
  {
   "cell_type": "code",
   "execution_count": null,
   "id": "291d7e7c",
   "metadata": {},
   "outputs": [],
   "source": [
    "import numpy as np\n",
    "num_classes = 6\n",
    "\n",
    "def normalize_curve(points, img_size):\n",
    "    # Extract x and y coordinates\n",
    "    x = points[:, 0]\n",
    "    y = points[:, 1]\n",
    "\n",
    "    # Normalize coordinates to fit within [0, 1]\n",
    "    x_min, x_max = x.min(), x.max()\n",
    "    y_min, y_max = y.min(), y.max()\n",
    "    \n",
    "    x_normalized = (x - x_min) / (x_max - x_min)\n",
    "    y_normalized = (y - y_min) / (y_max - y_min)\n",
    "\n",
    "    # Scale coordinates to fit within the image size\n",
    "    x_scaled = (x_normalized * (img_size - 1)).astype(int)\n",
    "    y_scaled = (y_normalized * (img_size - 1)).astype(int)\n",
    "    \n",
    "    return np.vstack((x_scaled, y_scaled)).T\n"
   ]
  },
  {
   "cell_type": "code",
   "execution_count": null,
   "id": "fff345ed",
   "metadata": {},
   "outputs": [],
   "source": [
    "from tensorflow.keras.utils import to_categorical\n",
    "\n",
    "# Create a mapping from label names to integers\n",
    "label_mapping = {label: idx for idx, label in enumerate(sorted(set(labels)))}\n",
    "print(\"Label Mapping:\", label_mapping)\n",
    "\n",
    "# Convert string labels to integers\n",
    "labels = np.array([label_mapping[label] for label in labels])\n",
    "\n",
    "labels = to_categorical(labels, num_classes)  # Convert labels to one-hot encoding"
   ]
  },
  {
   "cell_type": "code",
   "execution_count": null,
   "id": "f51858f4",
   "metadata": {},
   "outputs": [],
   "source": [
    "len(labels)"
   ]
  },
  {
   "cell_type": "code",
   "execution_count": null,
   "id": "e1b84bb2",
   "metadata": {},
   "outputs": [],
   "source": [
    "labels[0]"
   ]
  },
  {
   "cell_type": "code",
   "execution_count": null,
   "id": "c34c487a",
   "metadata": {},
   "outputs": [],
   "source": [
    "# Example usage\n",
    "print(len(data))\n",
    "print(type(data))\n",
    "print(type(data[0]))\n",
    "print(type(data[0][0]))\n",
    "print(data[0][0])"
   ]
  },
  {
   "cell_type": "code",
   "execution_count": null,
   "id": "2f19bab6",
   "metadata": {},
   "outputs": [],
   "source": [
    "data = np.array([convert_points_to_image(p, 224) for p in data])"
   ]
  },
  {
   "cell_type": "code",
   "execution_count": null,
   "id": "534fef95",
   "metadata": {},
   "outputs": [],
   "source": [
    "fig, ax = plt.subplots()\n",
    "\n",
    "# Display the image\n",
    "ax.imshow(data[76])\n",
    "# Adjust layout to add margins\n",
    "fig.tight_layout(pad=0.0)  # Increase padding as needed\n",
    "\n",
    "# Show the plot\n",
    "plt.show()"
   ]
  },
  {
   "cell_type": "code",
   "execution_count": null,
   "id": "fffcc249",
   "metadata": {},
   "outputs": [],
   "source": [
    "data.shape"
   ]
  },
  {
   "cell_type": "code",
   "execution_count": null,
   "id": "9d2d4332",
   "metadata": {},
   "outputs": [],
   "source": [
    "data = np.stack([data] * 3, axis=-1)\n",
    "data.shape"
   ]
  },
  {
   "cell_type": "code",
   "execution_count": null,
   "id": "5cd570d4",
   "metadata": {},
   "outputs": [],
   "source": [
    "# Split the data into training and testing sets\n",
    "X_train, X_test, Y_train, Y_test = train_test_split(data, labels, test_size = 0.1,random_state=42)"
   ]
  },
  {
   "cell_type": "code",
   "execution_count": null,
   "id": "2e7b447d",
   "metadata": {},
   "outputs": [],
   "source": [
    "from tensorflow.keras.applications import VGG16\n",
    "from tensorflow.keras.models import Model\n",
    "from tensorflow.keras.layers import Dense, Flatten\n",
    "\n",
    "def build_vgg16_model(num_classes):\n",
    "    base_model = VGG16(weights='imagenet', include_top=False, input_shape=(224, 224, 3))\n",
    "    x = base_model.output\n",
    "    x = Flatten()(x)\n",
    "    x = Dense(64, activation='relu')(x)\n",
    "    x = Dense(64, activation='sigmoid')(x)\n",
    "    predictions = Dense(num_classes, activation='softmax')(x)\n",
    "    \n",
    "    model = Model(inputs=base_model.input, outputs=predictions)\n",
    "    \n",
    "    # Freeze base model layers\n",
    "    for layer in base_model.layers:\n",
    "        layer.trainable = False\n",
    "    \n",
    "    model.compile(optimizer='adam', loss='categorical_crossentropy', metrics=['accuracy'])\n",
    "    return model\n",
    "\n",
    "model = build_vgg16_model(num_classes)\n"
   ]
  },
  {
   "cell_type": "code",
   "execution_count": null,
   "id": "6a5b2b5a",
   "metadata": {},
   "outputs": [],
   "source": [
    "model.fit(X_train, Y_train, epochs=10, batch_size=16, validation_split=0.3)"
   ]
  },
  {
   "cell_type": "code",
   "execution_count": null,
   "id": "da247c67",
   "metadata": {},
   "outputs": [],
   "source": [
    "# Evaluate the model\n",
    "loss, accuracy = model.evaluate(X_test, Y_test)\n",
    "print(f\"Accuracy: {accuracy:.2f}\")"
   ]
  },
  {
   "cell_type": "code",
   "execution_count": null,
   "id": "54aa1dbf",
   "metadata": {},
   "outputs": [],
   "source": [
    "model.save('../Models/model_closed.h5')"
   ]
  }
 ],
 "metadata": {
  "kernelspec": {
   "display_name": "Python 3",
   "language": "python",
   "name": "python3"
  },
  "language_info": {
   "codemirror_mode": {
    "name": "ipython",
    "version": 3
   },
   "file_extension": ".py",
   "mimetype": "text/x-python",
   "name": "python",
   "nbconvert_exporter": "python",
   "pygments_lexer": "ipython3",
   "version": "3.6.13"
  }
 },
 "nbformat": 4,
 "nbformat_minor": 5
}
